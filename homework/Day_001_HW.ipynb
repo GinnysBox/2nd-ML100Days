{
 "cells": [
  {
   "cell_type": "markdown",
   "metadata": {},
   "source": [
    "作業1：\n",
    "\n",
    "請上 Kaggle, 在 Competitions 或 Dataset 中找一組競賽或資料並寫下：\n",
    "\n",
    "1. 你選的這組資料為何重要\n",
    "\n",
    "2. 資料從何而來 (tips: 譬如提供者是誰、以什麼方式蒐集)\n",
    "\n",
    "3. 蒐集而來的資料型態為何\n",
    "\n",
    "4. 這組資料想解決的問題如何評估"
   ]
  },
  {
   "cell_type": "markdown",
   "metadata": {},
   "source": [
    "我選取的資料為:Airbnb Listing Data for Seattle and surrounding regions<br>\n",
    "https://www.kaggle.com/shanelev/seattle-airbnb-listings<br>\n",
    "\n",
    "1.現代人出遊住宿已改變模式，Airbnb的興起除了房客的需求提升以外，對於屋主的供應我也是備感興趣。<br>\n",
    "2.This dataset was created with the help of Tom Slee's Airbnb Data Collection codebase that can be found at https://github.com/tomslee/airbnb-data-collection<br>\n",
    "提供者為Tom Slee 蒐集方式為 在airbnb網頁上抓取資料<br>\n",
    "3.會將蒐集的資料轉成excel檔輸出<br>\n",
    "4.這組資料主要是想了解了解西雅圖等發展中市場的房地產和短期租賃市場<br>\n",
    "藉由分析屋主提供的為整套房源或是私人房間來分析，所購買的房屋是為了自住還是租屋，除此之外，airbnb就是一個租賃網站，藉由上面所提供的房源數量可以顯示出這個短期租賃市場的供需是否平衡。"
   ]
  },
  {
   "cell_type": "markdown",
   "metadata": {},
   "source": [
    "作業2：\n",
    "\n",
    "想像你經營一個自由載客車隊，你希望能透過數據分析以提升業績，請你思考並描述你如何規劃整體的分析/解決方案：\n",
    "\n",
    "1. 核心問題為何 (tips：如何定義 「提升業績 & 你的假設」)\n",
    "\n",
    "2. 資料從何而來 (tips：哪些資料可能會對你想問的問題產生影響 & 資料如何蒐集)\n",
    "\n",
    "3. 蒐集而來的資料型態為何\n",
    "\n",
    "4. 你要回答的問題，其如何評估 (tips：你的假設如何驗證)"
   ]
  },
  {
   "cell_type": "markdown",
   "metadata": {},
   "source": [
    "1.客群是誰?當我們要提供一個服務的同時我們就該想到誰會有這個需求。<br>\n",
    "EX1.無法使用大眾運輸工具轉乘至的熱門景點，鄰近的大眾運輸站點將會有需求。<br>\n",
    "EX2.夜晚的KTV.酒店.夜店...深色會有飲酒的場所，由於喝酒不開車的規範下將會有需求。<br>\n",
    "EX3.機場.火車.高鐵以及客運這種長途交通，通常旅客會攜帶大型行李不方便轉乘的旅客會有需求。<br>\n",
    "EX4.巔峰時期不易搭車，或是車班班次太少的偏遠地區。<br>\n",
    "EX5.大型活動的附近交通站點。<br>\n",
    "2.身為自由載客車隊一定是有地區性區域性的<br>\n",
    "EX1.可以在GOOGLE MAP截取地區上的景點以及交通方式。<br>\n",
    "EX2.一樣搜尋地區性的場所位置後，可以詢問櫃檯是否有提供叫車服務，資料應會顯示時間及數量。<br>\n",
    "EX3.區域性的車站或機場位置，機場網站上可以截取客流量的時間數量等資料。<br>\n",
    "EX4.偏遠地區是否有大型公司類似人物聚集的場合，例如后里:MICRON的人數眾多但沒有適當的交通方式。<br>\n",
    "EX5.政府是否有舉辦國際性的活動的時程表，在官方網站會有資料，例如市政府或縣政府官方網站。<br>\n",
    "3.型態都會是文字以及數字的表格<br>\n",
    "4.EX1.假設無法轉乘至熱門景點，例如新竹青青草原，目前沒有大眾運輸可前往，因此一般人前往都必須要自駕的狀況下，就表示有人轉乘需要使用我們的服務項目，因此在鄰近的交通站點是否常有計程車接單前往青青草原的資料可以做為驗證。<br>\n",
    "EX2.由於法規的規定因此出入這些場合的人飲酒機率高，可以藉由櫃台代客叫車以及代駕的數量作為驗證。<br>\n",
    "EX3.假設旅人會有需要我們服務項目的需求，通常這種站點都會有計程車的列隊等待服務，一樣可以藉由計程車的出勤資料來驗證。<br>\n",
    "EX4.像是最近舉辦的花博湧入大批人潮，但政府提供的接駁車數量不多以及停車場的車位也不多的狀況下，民眾大多都選擇搭火車之後轉乘，可以用后里火車站的客流量以及接駁車班次以及可載客數去推論供需是否平衡有需求。<br>\n",
    "EX5.之前世大運的舉辦，由於來參加比賽的多是外賓，他們不熟大眾運輸甚至有語言上的障礙，可透過活動的人流術以及活動時間表推論需求的時間以及數量。<br>\n",
    "\n",
    "\n"
   ]
  },
  {
   "cell_type": "markdown",
   "metadata": {},
   "source": [
    "作業3：\n",
    "\n",
    "請點選下方檢視範例依照 Day_001_example_of_metrics.ipynb 完成 Mean Squared Error 的函式\n",
    "\n",
    "資料夾結構建立規則提醒：2nd-ML100Days > data資料夾 & homework資料夾 (ipynb檔) \n",
    "\n",
    "(請注意data的存放位置，建議放在*.ipynb 同一個目錄下，這樣才能在不修改code的情況下正常執行)"
   ]
  },
  {
   "cell_type": "markdown",
   "metadata": {},
   "source": [
    "練習時間<br>\n",
    "請寫一個函式用來計算 Mean Square Error\n",
    "$ MSE = \\frac{1}{n}\\sum_{i=1}^{n}{(Y_i - \\hat{Y}_i)^2} $\n",
    "\n",
    "Hint: 如何取平方"
   ]
  },
  {
   "cell_type": "code",
   "execution_count": 1,
   "metadata": {},
   "outputs": [],
   "source": [
    "import numpy as np\n",
    "import matplotlib.pyplot as plt"
   ]
  },
  {
   "cell_type": "code",
   "execution_count": 2,
   "metadata": {},
   "outputs": [],
   "source": [
    "def add(a, b):\n",
    "    c = a + b\n",
    "    return c"
   ]
  },
  {
   "cell_type": "code",
   "execution_count": 3,
   "metadata": {},
   "outputs": [
    {
     "data": {
      "text/plain": [
       "3"
      ]
     },
     "execution_count": 3,
     "metadata": {},
     "output_type": "execute_result"
    }
   ],
   "source": [
    "e = 1\n",
    "f = 2\n",
    "d = add(e, f)\n",
    "d"
   ]
  },
  {
   "cell_type": "code",
   "execution_count": 4,
   "metadata": {},
   "outputs": [],
   "source": [
    "def mean_squared_error(y, yh):\n",
    "    \"\"\"\n",
    "    請完成這個 Function 後往下執行\n",
    "    \"\"\"\n",
    "    return sum((y-yh)**2)/len(y)\n",
    "    "
   ]
  },
  {
   "cell_type": "code",
   "execution_count": 10,
   "metadata": {},
   "outputs": [],
   "source": [
    "def mean_absolute_error(y, yp):\n",
    "    \"\"\"\n",
    "    計算 MAE\n",
    "    Args:\n",
    "        - y: 實際值\n",
    "        - yp: 預測值\n",
    "    Return:\n",
    "        - mae: MAE\n",
    "    \"\"\"\n",
    "    mae = MAE = sum(abs(y - yp)) / len(y)\n",
    "    return mae"
   ]
  },
  {
   "cell_type": "code",
   "execution_count": 5,
   "metadata": {},
   "outputs": [
    {
     "data": {
      "image/png": "[encoded data removed]",
      "text/plain": [
       "<Figure size 432x288 with 1 Axes>"
      ]
     },
     "metadata": {
      "needs_background": "light"
     },
     "output_type": "display_data"
    }
   ],
   "source": [
    "w = 3\n",
    "b = 0.5\n",
    "\n",
    "x_lin = np.linspace(0, 100, 101)\n",
    "\n",
    "y = (x_lin + np.random.randn(101) * 5) * w + b\n",
    "\n",
    "plt.plot(x_lin, y, 'b.', label = 'data points')\n",
    "plt.title(\"Assume we have data points\")\n",
    "plt.legend(loc = 2)\n",
    "plt.show()"
   ]
  },
  {
   "cell_type": "code",
   "execution_count": 6,
   "metadata": {},
   "outputs": [
    {
     "data": {
      "image/png": "[encoded data removed]",
      "text/plain": [
       "<Figure size 432x288 with 1 Axes>"
      ]
     },
     "metadata": {
      "needs_background": "light"
     },
     "output_type": "display_data"
    }
   ],
   "source": [
    "y_hat = x_lin * w + b\n",
    "plt.plot(x_lin, y, 'b.', label = 'data')\n",
    "plt.plot(x_lin, y_hat, 'r-', label = 'prediction')\n",
    "plt.title(\"Assume we have data points (And the prediction)\")\n",
    "plt.legend(loc = 2)\n",
    "plt.show()"
   ]
  },
  {
   "cell_type": "code",
   "execution_count": 11,
   "metadata": {},
   "outputs": [
    {
     "name": "stdout",
     "output_type": "stream",
     "text": [
      "The Mean squared error is 239.749\n",
      "The Mean absolute error is 11.788\n"
     ]
    }
   ],
   "source": [
    "# 執行 Function, 確認有沒有正常執行\n",
    "MSE = mean_squared_error(y, y_hat)\n",
    "MAE = mean_absolute_error(y, y_hat)\n",
    "print(\"The Mean squared error is %.3f\" %(MSE))\n",
    "print(\"The Mean absolute error is %.3f\" %(MAE))"
   ]
  }
 ],
 "metadata": {
  "kernelspec": {
   "display_name": "Python 3",
   "language": "python",
   "name": "python3"
  },
  "language_info": {
   "codemirror_mode": {
    "name": "ipython",
    "version": 3
   },
   "file_extension": ".py",
   "mimetype": "text/x-python",
   "name": "python",
   "nbconvert_exporter": "python",
   "pygments_lexer": "ipython3",
   "version": "3.7.3"
  }
 },
 "nbformat": 4,
 "nbformat_minor": 2
}
